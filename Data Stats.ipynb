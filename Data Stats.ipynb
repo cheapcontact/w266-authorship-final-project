{
 "cells": [
  {
   "cell_type": "code",
   "execution_count": 20,
   "metadata": {
    "collapsed": true
   },
   "outputs": [],
   "source": [
    "import re, os, operator\n",
    "import numpy as np\n",
    "import pandas as pd\n",
    "import matplotlib.pyplot as plt\n",
    "from matplotlib.ticker import FuncFormatter\n",
    "from os import listdir\n",
    "from tabulate import tabulate\n",
    "\n",
    "\n",
    "%matplotlib inline"
   ]
  },
  {
   "cell_type": "code",
   "execution_count": 4,
   "metadata": {
    "collapsed": true
   },
   "outputs": [],
   "source": [
    "import collections\n",
    "'''Vocabulary class, nearly identical to that used in a4'''\n",
    "class Vocabulary(object):\n",
    "\n",
    "  UNK_TOKEN = \"<unk>\"\n",
    "\n",
    "  def __init__(self, tokens, size=None):\n",
    "    self.unigram_counts = collections.Counter(tokens)\n",
    "    # leave space for \"<unk>\"\n",
    "    top_counts = self.unigram_counts.most_common(None if size is None else (size - 1))\n",
    "    vocab = ([self.UNK_TOKEN] +\n",
    "             [w for w,c in top_counts])\n",
    "\n",
    "    # Assign an id to each word, by frequency\n",
    "    self.id_to_word = dict(enumerate(vocab))\n",
    "    self.word_to_id = {v:k for k,v in self.id_to_word.iteritems()}\n",
    "    self.size = len(self.id_to_word)\n",
    "    if size is not None:\n",
    "        assert(self.size <= size)\n",
    "\n",
    "    # For convenience\n",
    "    self.wordset = set(self.word_to_id.iterkeys())\n",
    "\n",
    "    # Store special IDs\n",
    "    self.UNK_ID = self.word_to_id[self.UNK_TOKEN]\n",
    "\n",
    "  def words_to_ids(self, words):\n",
    "    return [self.word_to_id.get(w, self.UNK_ID) for w in words]\n",
    "\n",
    "  def ids_to_words(self, ids):\n",
    "    return [self.id_to_word[i] for i in ids]\n",
    "\n",
    "  def ordered_words(self):\n",
    "    \"\"\"Return a list of words, ordered by id.\"\"\"\n",
    "    return self.ids_to_words(range(self.size))\n"
   ]
  },
  {
   "cell_type": "code",
   "execution_count": 5,
   "metadata": {
    "collapsed": true
   },
   "outputs": [],
   "source": [
    "def canonicalize_digits(word):\n",
    "    if any([c.isalpha() for c in word]): return word\n",
    "    word = re.sub(\"\\d\", \"DG\", word)\n",
    "    if word.startswith(\"DG\"):\n",
    "        word = word.replace(\",\", \"\") # remove thousands separator\n",
    "    return word\n",
    "\n",
    "def canonicalize_word(word):\n",
    "    word = word.lower()\n",
    "    return canonicalize_digits(word) # try to canonicalize numbers\n",
    "\n",
    "def replace_all(text, dic):\n",
    "    for i, j in dic.iteritems():\n",
    "        text = text.replace(i, j)\n",
    "    return text\n",
    "\n",
    "def canonicalize_words(words):\n",
    "    current = []\n",
    "    rep_dict = {'\\n':' '\n",
    "                ,'\\xc2':' '\n",
    "                ,'\\xa0':' '\n",
    "                ,'\\xc2':' '\n",
    "                ,'\\xc3':' '\n",
    "                ,'\\xa9':' '\n",
    "                ,'\\xef':' '\n",
    "                ,'\\xbb':' '\n",
    "                ,'\\xbf':' '\n",
    "                ,'\\xa6':' '\n",
    "                ,'\\xb9':' '\n",
    "                ,'\\xa3':' '\n",
    "                ,'\\xbd':' '\n",
    "                ,'\\xb4':' '\n",
    "                ,'\\xcb':' '\n",
    "                ,'\\x9a':' '\n",
    "                ,'\\x86':' '\n",
    "                ,'\\xcf':' '\n",
    "                ,'\\x84':' '\n",
    "                ,'\\xce':' '\n",
    "                ,'\\x87':' '\n",
    "                ,'\\xe2':' '\n",
    "                ,'\\x80':' '\n",
    "                ,'\\x94':' '\n",
    "               }\n",
    "    for word in replace_all(words, rep_dict).split(' '):   \n",
    "        if word:\n",
    "            if word[-1] in ('.', ',', '?', ';', '!'):\n",
    "                punk = word[-1]\n",
    "                current.append(punk)\n",
    "                word = word[0:-1]\n",
    "\n",
    "            word = canonicalize_word(word)\n",
    "            current.append(word)\n",
    "    return current"
   ]
  },
  {
   "cell_type": "code",
   "execution_count": 61,
   "metadata": {
    "collapsed": true
   },
   "outputs": [],
   "source": [
    "def document_statistics(doc_path):\n",
    "    \n",
    "    # Returns No. sentences, No. words\n",
    "    \n",
    "    with open(doc_path, \"r\") as f:\n",
    "        file_contents = f.read()\n",
    "        \n",
    "        return file_contents.count('.'), len(file_contents.split())\n",
    "    \n",
    "def author_struct():\n",
    "    vocab = {'original':0\n",
    "            ,'processed':0}\n",
    "    author_dict = {'sentences':0\n",
    "                  ,'words':0\n",
    "                  ,'words_to_sents':0.0\n",
    "                  ,'vocab_size':vocab}\n",
    "    return author_dict\n",
    "\n",
    "   \n",
    "def database_statistics(raw_dir, clean_dir):\n",
    "    authors = {}\n",
    "    for author in [ name for name in os.listdir(raw_dir) if os.path.isdir(os.path.join(raw_dir, name)) ]:\n",
    "        auth_name = author.replace('_',' ').title()\n",
    "        all_tokens = []\n",
    "        authors[auth_name] = author_struct()\n",
    "        for file_name in listdir(raw_dir + '/' + author):\n",
    "            doc_path = raw_dir + '/' + author + '/' + file_name\n",
    "            doc_stats = document_statistics(doc_path)\n",
    "            authors[auth_name]['sentences'] += doc_stats[0]\n",
    "            authors[auth_name]['words'] += doc_stats[1]\n",
    "            with open(doc_path, \"r\") as f:\n",
    "                current = canonicalize_words(f.read())\n",
    "                all_tokens += current\n",
    "        \n",
    "        vocab = Vocabulary(all_tokens)\n",
    "        authors[auth_name]['words_to_sents'] = authors[auth_name]['words']*1./authors[auth_name]['sentences']\n",
    "        authors[auth_name]['vocab_size']['original'] = vocab.size\n",
    "        \n",
    "    for author in [ name for name in os.listdir(clean_dir) if os.path.isdir(os.path.join(clean_dir, name)) ]:\n",
    "        auth_name = author.replace('_',' ').title()\n",
    "        all_tokens = []\n",
    "        for file_name in listdir(clean_dir + '/' + author):\n",
    "            doc_path = clean_dir + '/' + author + '/' + file_name\n",
    "            with open(doc_path, \"r\") as f:\n",
    "                current = canonicalize_words(f.read())\n",
    "                all_tokens += current\n",
    "        \n",
    "        vocab = Vocabulary(all_tokens)\n",
    "        authors[auth_name]['vocab_size']['processed'] = vocab.size\n",
    "        \n",
    "    return authors\n",
    "\n",
    "def incremental_vocab_size(clean_dir, federalist_authors, other_authors):\n",
    "    vocab_tokens = []\n",
    "    all_tokens = []\n",
    "    vocab_size = {}\n",
    "    for author in federalist_authors:\n",
    "        for file_name in listdir(clean_dir + '/' + author):\n",
    "            doc_path = clean_dir + '/' + author + '/' + file_name\n",
    "            with open(doc_path, \"r\") as f:\n",
    "                current = canonicalize_words(f.read())\n",
    "                all_tokens += current\n",
    "        \n",
    "    vocab = Vocabulary(all_tokens)\n",
    "    vocab_tokens += all_tokens\n",
    "    print 'Vocabulary size of the Federalist Papers: {}'.format(vocab.size)\n",
    "    vocab_size['Federalist'] = vocab.size\n",
    "    vocab = None\n",
    "    while len(other_authors) > 0:\n",
    "        vocab_size_temp = {}\n",
    "        for author in other_authors:\n",
    "            all_tokens = []\n",
    "            for file_name in listdir(clean_dir + '/' + author):\n",
    "                doc_path = clean_dir + '/' + author + '/' + file_name\n",
    "                with open(doc_path, \"r\") as f:\n",
    "                    current = canonicalize_words(f.read())\n",
    "                    all_tokens += current\n",
    "        \n",
    "            vocab = Vocabulary(all_tokens + vocab_tokens)\n",
    "            vocab_size_temp[author] = vocab.size\n",
    "            vocab = None\n",
    "            print 'Vocabulary size increased to {0} by adding {1}'.format(vocab_size_temp[author],\n",
    "                                                                          author.replace('_',' ').title())\n",
    "        author = max(vocab_size_temp.iteritems(), key=operator.itemgetter(1))[0]\n",
    "        print 'Selecting {} as the next author'.format(author.replace('_',' ').title())\n",
    "        vocab_size[author.replace('_',' ').title()] = vocab_size_temp[author]\n",
    "        other_authors.remove(author)\n",
    "        all_tokens = vocab_tokens\n",
    "        for file_name in listdir(clean_dir + '/' + author):\n",
    "            doc_path = clean_dir + '/' + author + '/' + file_name\n",
    "            with open(doc_path, \"r\") as f:\n",
    "                current = canonicalize_words(f.read())\n",
    "                all_tokens += current\n",
    "                \n",
    "        vocab_tokens += all_tokens\n",
    "    df = pd.DataFrame.from_dict(vocab_size, orient = 'index').rename(columns = {0:'Vocab Size'}).sort_values('Vocab Size')\n",
    "    df.index.name = 'Authors'\n",
    "    return df\n",
    "\n",
    "def pretty_print_df(df):\n",
    "    print tabulate(df, headers='keys', tablefmt='psql')\n",
    "    \n",
    "def millions(x, pos):\n",
    "    'The two args are the value and tick position'\n",
    "    return '$%1.1fM' % (x*1e-6)"
   ]
  },
  {
   "cell_type": "code",
   "execution_count": 47,
   "metadata": {
    "collapsed": false
   },
   "outputs": [
    {
     "data": {
      "text/html": [
       "<div>\n",
       "<table border=\"1\" class=\"dataframe\">\n",
       "  <thead>\n",
       "    <tr style=\"text-align: right;\">\n",
       "      <th></th>\n",
       "      <th>words</th>\n",
       "      <th>sentences</th>\n",
       "      <th>words_to_sents</th>\n",
       "      <th>vocab_size</th>\n",
       "    </tr>\n",
       "    <tr>\n",
       "      <th>Author</th>\n",
       "      <th></th>\n",
       "      <th></th>\n",
       "      <th></th>\n",
       "      <th></th>\n",
       "    </tr>\n",
       "  </thead>\n",
       "  <tbody>\n",
       "    <tr>\n",
       "      <th>Alexander Hamilton</th>\n",
       "      <td>1512817</td>\n",
       "      <td>62612</td>\n",
       "      <td>24.1618</td>\n",
       "      <td>{u'original': 26437, u'processed': 20693}</td>\n",
       "    </tr>\n",
       "    <tr>\n",
       "      <th>Benjamin Franklin</th>\n",
       "      <td>70199</td>\n",
       "      <td>2523</td>\n",
       "      <td>27.8236</td>\n",
       "      <td>{u'original': 7688, u'processed': 7029}</td>\n",
       "    </tr>\n",
       "    <tr>\n",
       "      <th>George Washington</th>\n",
       "      <td>19903</td>\n",
       "      <td>674</td>\n",
       "      <td>29.5297</td>\n",
       "      <td>{u'original': 3329, u'processed': 3075}</td>\n",
       "    </tr>\n",
       "    <tr>\n",
       "      <th>James Madison</th>\n",
       "      <td>1583467</td>\n",
       "      <td>100068</td>\n",
       "      <td>15.8239</td>\n",
       "      <td>{u'original': 27005, u'processed': 19113}</td>\n",
       "    </tr>\n",
       "    <tr>\n",
       "      <th>James Monroe</th>\n",
       "      <td>45597</td>\n",
       "      <td>1449</td>\n",
       "      <td>31.4679</td>\n",
       "      <td>{u'original': 4147, u'processed': 3764}</td>\n",
       "    </tr>\n",
       "    <tr>\n",
       "      <th>John Adams</th>\n",
       "      <td>168191</td>\n",
       "      <td>6604</td>\n",
       "      <td>25.468</td>\n",
       "      <td>{u'original': 12568, u'processed': 1622}</td>\n",
       "    </tr>\n",
       "    <tr>\n",
       "      <th>John Jay</th>\n",
       "      <td>8374</td>\n",
       "      <td>199</td>\n",
       "      <td>42.0804</td>\n",
       "      <td>{u'original': 1754, u'processed': 1566}</td>\n",
       "    </tr>\n",
       "    <tr>\n",
       "      <th>Thomas Jefferson</th>\n",
       "      <td>2888245</td>\n",
       "      <td>136333</td>\n",
       "      <td>21.1852</td>\n",
       "      <td>{u'original': 37796, u'processed': 33649}</td>\n",
       "    </tr>\n",
       "    <tr>\n",
       "      <th>Thomas Paine</th>\n",
       "      <td>364912</td>\n",
       "      <td>14224</td>\n",
       "      <td>25.6547</td>\n",
       "      <td>{u'original': 18251, u'processed': 11725}</td>\n",
       "    </tr>\n",
       "  </tbody>\n",
       "</table>\n",
       "</div>"
      ],
      "text/plain": [
       "                      words sentences words_to_sents  \\\n",
       "Author                                                 \n",
       "Alexander Hamilton  1512817     62612        24.1618   \n",
       "Benjamin Franklin     70199      2523        27.8236   \n",
       "George Washington     19903       674        29.5297   \n",
       "James Madison       1583467    100068        15.8239   \n",
       "James Monroe          45597      1449        31.4679   \n",
       "John Adams           168191      6604         25.468   \n",
       "John Jay               8374       199        42.0804   \n",
       "Thomas Jefferson    2888245    136333        21.1852   \n",
       "Thomas Paine         364912     14224        25.6547   \n",
       "\n",
       "                                                   vocab_size  \n",
       "Author                                                         \n",
       "Alexander Hamilton  {u'original': 26437, u'processed': 20693}  \n",
       "Benjamin Franklin     {u'original': 7688, u'processed': 7029}  \n",
       "George Washington     {u'original': 3329, u'processed': 3075}  \n",
       "James Madison       {u'original': 27005, u'processed': 19113}  \n",
       "James Monroe          {u'original': 4147, u'processed': 3764}  \n",
       "John Adams           {u'original': 12568, u'processed': 1622}  \n",
       "John Jay              {u'original': 1754, u'processed': 1566}  \n",
       "Thomas Jefferson    {u'original': 37796, u'processed': 33649}  \n",
       "Thomas Paine        {u'original': 18251, u'processed': 11725}  "
      ]
     },
     "execution_count": 47,
     "metadata": {},
     "output_type": "execute_result"
    }
   ],
   "source": [
    "raw = 'raw_data'\n",
    "train = 'train_data'\n",
    "authors = database_statistics(raw,train)\n",
    "df = pd.DataFrame.from_dict(authors).transpose()\n",
    "df = df[['words', 'sentences', 'words_to_sents', 'vocab_size']]\n",
    "df.index.name = 'Author'\n",
    "df"
   ]
  },
  {
   "cell_type": "code",
   "execution_count": 15,
   "metadata": {
    "collapsed": false
   },
   "outputs": [
    {
     "name": "stdout",
     "output_type": "stream",
     "text": [
      "+--------------------+---------+-------------+------------------+-----------------------------------------+\n",
      "| Author             |   words |   sentences |   words_to_sents | vocab_size                              |\n",
      "|--------------------+---------+-------------+------------------+-----------------------------------------|\n",
      "| Alexander Hamilton | 1512817 |       62612 |          24.1618 | {'original': 26437, 'processed': 20693} |\n",
      "| Benjamin Franklin  |   70199 |        2523 |          27.8236 | {'original': 7688, 'processed': 7029}   |\n",
      "| George Washington  |   19903 |         674 |          29.5297 | {'original': 3329, 'processed': 3075}   |\n",
      "| James Madison      | 1583467 |      100068 |          15.8239 | {'original': 27005, 'processed': 19113} |\n",
      "| James Monroe       |   45597 |        1449 |          31.4679 | {'original': 4147, 'processed': 3764}   |\n",
      "| John Adams         |  168191 |        6604 |          25.468  | {'original': 12568, 'processed': 1622}  |\n",
      "| John Jay           |    8374 |         199 |          42.0804 | {'original': 1754, 'processed': 1566}   |\n",
      "| Thomas Jefferson   | 2888245 |      136333 |          21.1852 | {'original': 37796, 'processed': 33649} |\n",
      "| Thomas Paine       |  364912 |       14224 |          25.6547 | {'original': 18251, 'processed': 11725} |\n",
      "+--------------------+---------+-------------+------------------+-----------------------------------------+\n"
     ]
    },
    {
     "data": {
      "image/png": "[encoded data removed]",
      "text/plain": [
       "<matplotlib.figure.Figure at 0x7fd9c81d9110>"
      ]
     },
     "metadata": {},
     "output_type": "display_data"
    }
   ],
   "source": [
    "pretty_print_df(df)\n",
    "#print df.to_latex()\n",
    "\n",
    "formatter = FuncFormatter(millions)\n",
    "fig, ax = plt.subplots()\n",
    "ax.yaxis.set_major_formatter(formatter)\n",
    "words = df['words'].plot(kind='bar')\n",
    "words.set_ylabel('# words')\n",
    "\n",
    "plt.show()"
   ]
  },
  {
   "cell_type": "code",
   "execution_count": 16,
   "metadata": {
    "collapsed": false
   },
   "outputs": [
    {
     "data": {
      "text/plain": [
       "Author\n",
       "Alexander Hamilton    1512817\n",
       "Benjamin Franklin       70199\n",
       "George Washington       19903\n",
       "James Madison         1583467\n",
       "James Monroe            45597\n",
       "John Adams             168191\n",
       "John Jay                 8374\n",
       "Thomas Jefferson      2888245\n",
       "Thomas Paine           364912\n",
       "Name: words, dtype: object"
      ]
     },
     "execution_count": 16,
     "metadata": {},
     "output_type": "execute_result"
    }
   ],
   "source": [
    "df['words']"
   ]
  },
  {
   "cell_type": "code",
   "execution_count": 62,
   "metadata": {
    "collapsed": false
   },
   "outputs": [
    {
     "name": "stdout",
     "output_type": "stream",
     "text": [
      "Vocabulary size of the Federalist Papers: 27936\n",
      "Vocabulary size increased to 27951 by adding John Adams\n",
      "Vocabulary size increased to 30705 by adding Thomas Paine\n",
      "Vocabulary size increased to 45143 by adding Thomas Jefferson\n",
      "Vocabulary size increased to 28072 by adding James Monroe\n",
      "Vocabulary size increased to 28011 by adding George Washington\n",
      "Vocabulary size increased to 29710 by adding Benjamin Franklin\n",
      "Selecting Thomas Jefferson as the next author\n",
      "Vocabulary size increased to 45152 by adding John Adams\n",
      "Vocabulary size increased to 47105 by adding Thomas Paine\n",
      "Vocabulary size increased to 45228 by adding James Monroe\n",
      "Vocabulary size increased to 45191 by adding George Washington\n",
      "Vocabulary size increased to 46428 by adding Benjamin Franklin\n",
      "Selecting Thomas Paine as the next author\n",
      "Vocabulary size increased to 47113 by adding John Adams\n",
      "Vocabulary size increased to 47187 by adding James Monroe\n",
      "Vocabulary size increased to 47151 by adding George Washington\n",
      "Vocabulary size increased to 48338 by adding Benjamin Franklin\n",
      "Selecting Benjamin Franklin as the next author\n",
      "Vocabulary size increased to 48346 by adding John Adams\n",
      "Vocabulary size increased to 48419 by adding James Monroe\n",
      "Vocabulary size increased to 48383 by adding George Washington\n",
      "Selecting James Monroe as the next author\n",
      "Vocabulary size increased to 48427 by adding John Adams\n",
      "Vocabulary size increased to 48464 by adding George Washington\n",
      "Selecting George Washington as the next author\n",
      "Vocabulary size increased to 48471 by adding John Adams\n",
      "Selecting John Adams as the next author\n"
     ]
    }
   ],
   "source": [
    "clean_dir = 'train_data'\n",
    "federalist_authors = ['john_jay', 'james_madison', 'alexander_hamilton']\n",
    "other_authors = ['john_adams', 'thomas_paine','thomas_jefferson','james_monroe', 'george_washington', 'benjamin_franklin']\n",
    "author_contrib = incremental_vocab_size(clean_dir, federalist_authors, other_authors)"
   ]
  },
  {
   "cell_type": "code",
   "execution_count": 64,
   "metadata": {
    "collapsed": false
   },
   "outputs": [
    {
     "name": "stdout",
     "output_type": "stream",
     "text": [
      "+-------------------+--------------+\n",
      "| Authors           |   Vocab Size |\n",
      "|-------------------+--------------|\n",
      "| Federalist        |        27936 |\n",
      "| Thomas Jefferson  |        45143 |\n",
      "| Thomas Paine      |        47105 |\n",
      "| Benjamin Franklin |        48338 |\n",
      "| James Monroe      |        48419 |\n",
      "| George Washington |        48464 |\n",
      "| John Adams        |        48471 |\n",
      "+-------------------+--------------+\n"
     ]
    }
   ],
   "source": [
    "pretty_print_df(author_contrib)"
   ]
  },
  {
   "cell_type": "code",
   "execution_count": 81,
   "metadata": {
    "collapsed": false
   },
   "outputs": [
    {
     "data": {
      "text/plain": [
       "[('Federalist', 27936),\n",
       " ('Thomas Jefferson', 45143),\n",
       " ('Thomas Paine', 47105),\n",
       " ('Benjamin Franklin', 48338),\n",
       " ('James Monroe', 48419),\n",
       " ('George Washington', 48464),\n",
       " ('John Adams', 48471)]"
      ]
     },
     "execution_count": 81,
     "metadata": {},
     "output_type": "execute_result"
    }
   ],
   "source": [
    "[(author, author_contrib.get_value(author,'Vocab Size')) for author in author_contrib.index]"
   ]
  },
  {
   "cell_type": "code",
   "execution_count": 68,
   "metadata": {
    "collapsed": false
   },
   "outputs": [
    {
     "data": {
      "text/plain": [
       "Index([u'Federalist', u'Thomas Jefferson', u'Thomas Paine',\n",
       "       u'Benjamin Franklin', u'James Monroe', u'George Washington',\n",
       "       u'John Adams'],\n",
       "      dtype='object', name=u'Authors')"
      ]
     },
     "execution_count": 68,
     "metadata": {},
     "output_type": "execute_result"
    }
   ],
   "source": [
    "author_contrib.index"
   ]
  },
  {
   "cell_type": "code",
   "execution_count": 78,
   "metadata": {
    "collapsed": false
   },
   "outputs": [
    {
     "name": "stdout",
     "output_type": "stream",
     "text": [
      "27936\n"
     ]
    }
   ],
   "source": [
    "print author_contrib.get_value(u'Federalist','Vocab Size')"
   ]
  },
  {
   "cell_type": "code",
   "execution_count": null,
   "metadata": {
    "collapsed": true
   },
   "outputs": [],
   "source": []
  }
 ],
 "metadata": {
  "kernelspec": {
   "display_name": "Python 2",
   "language": "python",
   "name": "python2"
  },
  "language_info": {
   "codemirror_mode": {
    "name": "ipython",
    "version": 2
   },
   "file_extension": ".py",
   "mimetype": "text/x-python",
   "name": "python",
   "nbconvert_exporter": "python",
   "pygments_lexer": "ipython2",
   "version": "2.7.13"
  }
 },
 "nbformat": 4,
 "nbformat_minor": 2
}
