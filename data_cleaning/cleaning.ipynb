{
 "cells": [
  {
   "cell_type": "code",
   "execution_count": 2,
   "metadata": {
    "collapsed": true
   },
   "outputs": [],
   "source": [
    "%matplotlib inline\n",
    "import numpy as np\n",
    "import pandas as pd\n",
    "import re"
   ]
  },
  {
   "cell_type": "code",
   "execution_count": 72,
   "metadata": {
    "collapsed": true
   },
   "outputs": [],
   "source": [
    "raw_data_path = '../raw_data/'\n",
    "train_data_path = '../train_data/'"
   ]
  },
  {
   "cell_type": "markdown",
   "metadata": {},
   "source": [
    "## State of the Union Address"
   ]
  },
  {
   "cell_type": "code",
   "execution_count": 56,
   "metadata": {
    "collapsed": true
   },
   "outputs": [],
   "source": [
    "def clean_state_of_union_address(path):\n",
    "    with open(path, 'r') as f:\n",
    "        raw = f.read()\n",
    "\n",
    "    body_start = re.search('START OF THIS PROJECT GUTENBERG EBOOK STATE OF THE UNION ADDRESSES', raw)\n",
    "    body_end = re.search('End of the Project Gutenberg EBook', raw)\n",
    "    if body_start and body_end:\n",
    "        full =  raw[body_start.end()+1: body_end.start()].strip()\n",
    "\n",
    "    loop = True\n",
    "    clean_text = ''\n",
    "    body_end = len(full)\n",
    "    full_text = full\n",
    "    while loop:\n",
    "        address_body_start = re.search('\\*\\*\\*\\n\\nState of the Union Address\\n',full_text[0: ]).end()\n",
    "        address_body_end = re.search('\\*\\*\\*',full_text[address_body_start: ])\n",
    "        if address_body_end:\n",
    "            address_body_end = address_body_end.start()\n",
    "        else:\n",
    "            address_body_end = body_end\n",
    "            loop = False\n",
    "        if address_body_start:\n",
    "            address_content_start = re.search(':\\n\\n',full_text[address_body_start:address_body_end]).end() + address_body_start\n",
    "            clean_text = clean_text + full_text[address_content_start:address_body_start + address_body_end].strip() + '\\n\\n'\n",
    "            address_body_start = address_body_end + address_body_start - 3\n",
    "            full_text = full_text[address_body_start:]\n",
    "        else:\n",
    "            loop = False\n",
    "\n",
    "    return clean_text.strip()"
   ]
  },
  {
   "cell_type": "markdown",
   "metadata": {},
   "source": [
    "### James Monroe"
   ]
  },
  {
   "cell_type": "code",
   "execution_count": 73,
   "metadata": {
    "collapsed": false
   },
   "outputs": [],
   "source": [
    "path = 'james_monroe/monroe_state_of_the_unions_gutenberg'\n",
    "clean_text = clean_state_of_union_address(raw_data_path+path + '.txt')\n",
    "with open(train_data_path+path + '_clean.txt', 'w') as f:\n",
    "    f.write(clean_text)"
   ]
  },
  {
   "cell_type": "markdown",
   "metadata": {},
   "source": [
    "### George Washington"
   ]
  },
  {
   "cell_type": "code",
   "execution_count": 64,
   "metadata": {
    "collapsed": true
   },
   "outputs": [],
   "source": [
    "path = 'george_washington/washington_state_of_unions_gutenberg'\n",
    "clean_text = clean_state_of_union_address(raw_data_path+path + '.txt')\n",
    "with open(train_data_path+path + '_clean.txt', 'w') as f:\n",
    "    f.write(clean_text)"
   ]
  },
  {
   "cell_type": "markdown",
   "metadata": {},
   "source": [
    "### James Madison"
   ]
  },
  {
   "cell_type": "code",
   "execution_count": 66,
   "metadata": {
    "collapsed": true
   },
   "outputs": [],
   "source": [
    "path = 'james_madison/madison_state_of_unions_gutenberg'\n",
    "clean_text = clean_state_of_union_address(raw_data_path+path + '.txt')\n",
    "with open(train_data_path+path + '_clean.txt', 'w') as f:\n",
    "    f.write(clean_text)"
   ]
  },
  {
   "cell_type": "markdown",
   "metadata": {},
   "source": [
    "### John Adams"
   ]
  },
  {
   "cell_type": "code",
   "execution_count": 68,
   "metadata": {
    "collapsed": true
   },
   "outputs": [],
   "source": [
    "path = 'john_adams/adams_state_of_the_unions_gutenberg'\n",
    "clean_text = clean_state_of_union_address(raw_data_path+path + '.txt')\n",
    "with open(train_data_path+path + '_clean.txt', 'w') as f:\n",
    "    f.write(clean_text)"
   ]
  },
  {
   "cell_type": "markdown",
   "metadata": {},
   "source": [
    "### Thomas Jefferson"
   ]
  },
  {
   "cell_type": "code",
   "execution_count": 70,
   "metadata": {
    "collapsed": true
   },
   "outputs": [],
   "source": [
    "path = 'thomas_jefferson/jefferson_state_of_the_unions_gutenberg'\n",
    "clean_text = clean_state_of_union_address(raw_data_path+path + '.txt')\n",
    "with open(train_data_path+path + '_clean.txt', 'w') as f:\n",
    "    f.write(clean_text)"
   ]
  },
  {
   "cell_type": "markdown",
   "metadata": {},
   "source": [
    "## Autobiography"
   ]
  },
  {
   "cell_type": "code",
   "execution_count": 86,
   "metadata": {
    "collapsed": false
   },
   "outputs": [],
   "source": [
    "def clean_autobiography(path):\n",
    "    with open(path, 'r') as f:\n",
    "        raw = f.read()\n",
    "    \n",
    "    body_start = re.search('HIS AUTOBIOGRAPHY\\n\\n', raw)\n",
    "    if body_start:\n",
    "        body_start = body_start.end()\n",
    "        body_end = re.search('\\n\\nCHIEF EVENTS IN ',raw[body_start:])\n",
    "    else:\n",
    "        body_start = 0\n",
    "    if body_end:\n",
    "        body_end = body_end.start()\n",
    "    else:\n",
    "        body_end = len(raw[body_start:])\n",
    "    \n",
    "    clean_text = raw[body_start:body_start+body_end]\n",
    "    return clean_text.strip()"
   ]
  },
  {
   "cell_type": "markdown",
   "metadata": {},
   "source": [
    "### Benjamin Franklin"
   ]
  },
  {
   "cell_type": "code",
   "execution_count": 89,
   "metadata": {
    "collapsed": false
   },
   "outputs": [],
   "source": [
    "path = 'benjamin_franklin/franklin_autobiography_gutenberg'\n",
    "clean_text = clean_autobiography(raw_data_path+path + '.txt')\n",
    "with open(train_data_path+path + '_clean.txt', 'w') as f:\n",
    "    f.write(clean_text)"
   ]
  },
  {
   "cell_type": "code",
   "execution_count": null,
   "metadata": {
    "collapsed": true
   },
   "outputs": [],
   "source": []
  }
 ],
 "metadata": {
  "kernelspec": {
   "display_name": "Python 2",
   "language": "python",
   "name": "python2"
  },
  "language_info": {
   "codemirror_mode": {
    "name": "ipython",
    "version": 2
   },
   "file_extension": ".py",
   "mimetype": "text/x-python",
   "name": "python",
   "nbconvert_exporter": "python",
   "pygments_lexer": "ipython2",
   "version": "2.7.13"
  }
 },
 "nbformat": 4,
 "nbformat_minor": 2
}
