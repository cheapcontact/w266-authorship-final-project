{
 "cells": [
  {
   "cell_type": "markdown",
   "metadata": {},
   "source": [
    "# Cleaning Jefferson Letter Documents\n",
    "Takes Gutenberg Jefferson documents that have already had all gutenberg text removed and then further removes all letter headers (i.e. the 'TO:' line, the date line, and salutation in the body if it exists). As a side benefit, the leading-space check for date lines also catches many (or maybe all) tables, which we don't want either."
   ]
  },
  {
   "cell_type": "markdown",
   "metadata": {},
   "source": [
    "# WARNING: This will overwrite _clean and _cuts files, but not _cleanish"
   ]
  },
  {
   "cell_type": "code",
   "execution_count": 69,
   "metadata": {
    "collapsed": false
   },
   "outputs": [],
   "source": [
    "import re\n",
    "from __future__ import print_function"
   ]
  },
  {
   "cell_type": "code",
   "execution_count": 70,
   "metadata": {
    "collapsed": false
   },
   "outputs": [],
   "source": [
    "## Set file path to directory with cleanish files\n",
    "file_dir_path = '../train_data/thomas_jefferson/'"
   ]
  },
  {
   "cell_type": "code",
   "execution_count": 75,
   "metadata": {
    "collapsed": false
   },
   "outputs": [],
   "source": [
    "for volume_num in range(2,8):\n",
    "    ## Sets file paths for reading and writing\n",
    "    cleanish_file_name = 'jefferson_writings_of_vol_' + str(volume_num) + '_gutenberg_cleanish.txt'\n",
    "    clean_file_name = 'jefferson_writings_of_vol_' + str(volume_num) + '_gutenberg_clean.txt'\n",
    "    cuts_file_name = 'jefferson_writings_of_vol_' + str(volume_num) + '_gutenberg_cuts.txt'\n",
    "    \n",
    "    cleanish_file_path = file_dir_path + cleanish_file_name\n",
    "    clean_file_path = file_dir_path + clean_file_name\n",
    "    cuts_file_path = file_dir_path + cuts_file_name\n",
    "    \n",
    "    # Reads cleanish file and breaks into list of paragraphs\n",
    "    with open(cleanish_file_path, 'r') as f:\n",
    "        doc = f.read()\n",
    "    paragraphs = doc.split('\\n\\n')\n",
    "\n",
    "    ## Testing each paragraph and maintaining new list of keeps and cuts to write to new files\n",
    "    keeps = [] # paragraphs to keep\n",
    "    cuts = [] # paragraphs to cut\n",
    "    leading_spaces = ' '*15 # leading spaces indicating a paragraph we don't want\n",
    "    for par in paragraphs:\n",
    "        if par.upper() == par: # check if all-caps TO line\n",
    "            cuts.append(par)\n",
    "        elif par[0:15] == leading_spaces: # check if big block of white space, which indicates a date line\n",
    "            cuts.append(par)\n",
    "        else: # check further if this is a body paragraph with a salutation\n",
    "            head = par[0:50]\n",
    "            double_dash_ind = head.find('--') # search for double dash in head\n",
    "            if double_dash_ind != -1: # if double dash is found\n",
    "                cuts.append(par[0:double_dash_ind+2])\n",
    "                keeps.append(par[double_dash_ind+2:])\n",
    "            else: # no double dash, so keep everything\n",
    "                keeps.append(par)\n",
    "    \n",
    "    ## Reconstructing documents with paragraph breaks\n",
    "    keeps = '\\n\\n'.join(keeps)\n",
    "    cuts = '\\n\\n'.join(cuts)\n",
    "\n",
    "    ## Writing new files\n",
    "    with open (clean_file_path, 'w') as f:\n",
    "        for par in keeps:\n",
    "            f.write(par)\n",
    "\n",
    "    with open (cuts_file_path, 'w') as f:\n",
    "        for par in cuts:\n",
    "            f.write(par)"
   ]
  }
 ],
 "metadata": {
  "anaconda-cloud": {},
  "kernelspec": {
   "display_name": "Python [conda env:python2]",
   "language": "python",
   "name": "conda-env-python2-py"
  },
  "language_info": {
   "codemirror_mode": {
    "name": "ipython",
    "version": 2
   },
   "file_extension": ".py",
   "mimetype": "text/x-python",
   "name": "python",
   "nbconvert_exporter": "python",
   "pygments_lexer": "ipython2",
   "version": "2.7.13"
  }
 },
 "nbformat": 4,
 "nbformat_minor": 2
}
